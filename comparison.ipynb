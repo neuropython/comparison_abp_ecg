{
 "cells": [
  {
   "cell_type": "markdown",
   "source": [
    "<h1 align = \"center\" >HRV analysis</h1>"
   ],
   "metadata": {
    "collapsed": false
   },
   "id": "bdd4cbd53696501b"
  },
  {
   "cell_type": "markdown",
   "source": [
    "## Introduction\n",
    "The aim of this notebook is to perform the HRV analysis on the data from the BrainLab database. The data is stored as a CSV file. First the data will be loaded and then the HRV analysis will be performed. The HRV analysis will be performed using the  `neurokit2` library. The `neurokit2` library is a Python library for biosignal processing. The data will be loaded using the `pandas` library. The HRV analysis will be performed using the `pyhrv` and `neurokit2` libraries. The data will be plotted using the `matplotlib` library."
   ],
   "metadata": {
    "collapsed": false
   },
   "id": "308fed2f97697ed1"
  },
  {
   "cell_type": "markdown",
   "source": [
    "## Importing the libraries"
   ],
   "metadata": {
    "collapsed": false
   },
   "id": "aebc196bafe78b2d"
  },
  {
   "cell_type": "code",
   "execution_count": 99,
   "outputs": [],
   "source": [
    "import neurokit2 as nk \n",
    "from pyhrv import frequency_domain as fd \n",
    "from pyhrv import time_domain as td\n",
    "import matplotlib.pyplot as plt \n",
    "from pathlib import Path\n",
    "import pandas as pd\n",
    "import csv\n",
    "import os"
   ],
   "metadata": {
    "collapsed": false,
    "ExecuteTime": {
     "end_time": "2024-02-20T09:33:43.061573100Z",
     "start_time": "2024-02-20T09:33:43.036089500Z"
    }
   },
   "id": "initial_id"
  },
  {
   "cell_type": "code",
   "execution_count": 100,
   "outputs": [],
   "source": [
    "content = ['HRV_SDNN',    'HRV_RMSSD',    'HRV_MeanNN',    'HRV_pNN50',    'HRV_pNN20',    'HRV_LF',    'HRV_HF',    'HRV_TP',    'HRV_ApEn',    'HRV_SampEn', 'HRV_FuzzyEn', 'HRV_MSEn',    'HRV_ShanEn']"
   ],
   "metadata": {
    "collapsed": false,
    "ExecuteTime": {
     "end_time": "2024-02-20T09:33:43.076532700Z",
     "start_time": "2024-02-20T09:33:43.040104800Z"
    }
   },
   "id": "bb90076ee65a4ed1"
  },
  {
   "cell_type": "markdown",
   "source": [
    "## Loading the data - ABP signal"
   ],
   "metadata": {
    "collapsed": false
   },
   "id": "c898b37e17f2c037"
  },
  {
   "cell_type": "code",
   "execution_count": 104,
   "outputs": [
    {
     "name": "stdout",
     "output_type": "stream",
     "text": [
      "[WindowsPath('C:/Users/damia/OneDrive/Pulpit/6_BREATHS/OCH_10_CLEAN_CB_6.csv'), WindowsPath('C:/Users/damia/OneDrive/Pulpit/6_BREATHS/OCH_13_CLEAN_CB_6.csv'), WindowsPath('C:/Users/damia/OneDrive/Pulpit/6_BREATHS/OCH_14_CLEAN_CB_6.csv'), WindowsPath('C:/Users/damia/OneDrive/Pulpit/6_BREATHS/OCH_15_CLEAN_CB_6.csv'), WindowsPath('C:/Users/damia/OneDrive/Pulpit/6_BREATHS/OCH_16_CLEAN_CB_6.csv'), WindowsPath('C:/Users/damia/OneDrive/Pulpit/6_BREATHS/OCH_17_CLEAN_CB_6.csv'), WindowsPath('C:/Users/damia/OneDrive/Pulpit/6_BREATHS/OCH_18_CLEAN_CB_6.csv'), WindowsPath('C:/Users/damia/OneDrive/Pulpit/6_BREATHS/OCH_19_CLEAN_CB_6.csv'), WindowsPath('C:/Users/damia/OneDrive/Pulpit/6_BREATHS/OCH_1_CLEAN_CB_6.csv'), WindowsPath('C:/Users/damia/OneDrive/Pulpit/6_BREATHS/OCH_20_CLEAN_CB_6.csv'), WindowsPath('C:/Users/damia/OneDrive/Pulpit/6_BREATHS/OCH_21_CLEAN_CB_6.csv'), WindowsPath('C:/Users/damia/OneDrive/Pulpit/6_BREATHS/OCH_23_CLEAN_CB_6.csv'), WindowsPath('C:/Users/damia/OneDrive/Pulpit/6_BREATHS/OCH_24_CLEAN_CB_6.csv'), WindowsPath('C:/Users/damia/OneDrive/Pulpit/6_BREATHS/OCH_25_CLEAN_CB_6.csv'), WindowsPath('C:/Users/damia/OneDrive/Pulpit/6_BREATHS/OCH_26_CLEAN_CB_6.csv'), WindowsPath('C:/Users/damia/OneDrive/Pulpit/6_BREATHS/OCH_27_CLEAN_CB_6.csv'), WindowsPath('C:/Users/damia/OneDrive/Pulpit/6_BREATHS/OCH_28_CLEAN_CB_6.csv'), WindowsPath('C:/Users/damia/OneDrive/Pulpit/6_BREATHS/OCH_29_CLEAN_CB_6.csv'), WindowsPath('C:/Users/damia/OneDrive/Pulpit/6_BREATHS/OCH_2_CLEAN_CB_6.csv'), WindowsPath('C:/Users/damia/OneDrive/Pulpit/6_BREATHS/OCH_30_CLEAN_CB_6.csv'), WindowsPath('C:/Users/damia/OneDrive/Pulpit/6_BREATHS/OCH_31_CLEAN_CB_6.csv'), WindowsPath('C:/Users/damia/OneDrive/Pulpit/6_BREATHS/OCH_32_CLEAN_CB_6.csv'), WindowsPath('C:/Users/damia/OneDrive/Pulpit/6_BREATHS/OCH_33_CLEAN_CB_6.csv'), WindowsPath('C:/Users/damia/OneDrive/Pulpit/6_BREATHS/OCH_34_CLEAN_CB_6.csv'), WindowsPath('C:/Users/damia/OneDrive/Pulpit/6_BREATHS/OCH_35_CLEAN_CB_6.csv'), WindowsPath('C:/Users/damia/OneDrive/Pulpit/6_BREATHS/OCH_36_CLEAN_CB_6.csv'), WindowsPath('C:/Users/damia/OneDrive/Pulpit/6_BREATHS/OCH_37_CLEAN_CB_6.csv'), WindowsPath('C:/Users/damia/OneDrive/Pulpit/6_BREATHS/OCH_3_CLEAN_CB_6.csv'), WindowsPath('C:/Users/damia/OneDrive/Pulpit/6_BREATHS/OCH_4_CLEAN_CB_6.csv'), WindowsPath('C:/Users/damia/OneDrive/Pulpit/6_BREATHS/OCH_5_CLEAN_CB_6.csv'), WindowsPath('C:/Users/damia/OneDrive/Pulpit/6_BREATHS/OCH_6_CLEAN_CB_6.csv'), WindowsPath('C:/Users/damia/OneDrive/Pulpit/6_BREATHS/OCH_7_CLEAN_CB_6.csv'), WindowsPath('C:/Users/damia/OneDrive/Pulpit/6_BREATHS/OCH_8_CLEAN_CB_6.csv'), WindowsPath('C:/Users/damia/OneDrive/Pulpit/6_BREATHS/OCH_9_CLEAN_CB_6.csv')]\n"
     ]
    }
   ],
   "source": [
    "folder_path = Path(r\"C:\\Users\\damia\\OneDrive\\Pulpit\\6_BREATHS\")\n",
    "csv_files = list(folder_path.glob(\"*.csv\"))\n",
    "print(csv_files)"
   ],
   "metadata": {
    "collapsed": false,
    "ExecuteTime": {
     "end_time": "2024-02-20T09:37:03.437614700Z",
     "start_time": "2024-02-20T09:37:03.428639700Z"
    }
   },
   "id": "63d52aab8a391679"
  },
  {
   "cell_type": "markdown",
   "source": [
    "## HRV analysis using ABP signal"
   ],
   "metadata": {
    "collapsed": false
   },
   "id": "897eed73d2e42d76"
  },
  {
   "cell_type": "code",
   "execution_count": 102,
   "outputs": [],
   "source": [
    "for name in csv_files:\n",
    "    try:\n",
    "        df = pd.read_csv(name, sep=';')\n",
    "        df_abp = df['abp_cnap[mmHg]']\n",
    "        df_abp = [float(i.replace(',','.')) for i in df_abp]\n",
    "        processed_signal = nk.ppg_process(df_abp, sampling_rate=200)\n",
    "        hrv = nk.hrv(processed_signal[0], sampling_rate=200)\n",
    "        name_without_csv = os.path.splitext(name.name)[0]\n",
    "        hrv[content].to_csv(fr'{name}_ANALYZE_ABP.csv', encoding='utf-8')\n",
    "    except Exception as e :\n",
    "        with open('error_log.txt', 'a') as f:\n",
    "            f.write(f\"Error in file {name} --> {str(e)}\")"
   ],
   "metadata": {
    "collapsed": false,
    "ExecuteTime": {
     "end_time": "2024-02-20T09:34:20.605516200Z",
     "start_time": "2024-02-20T09:33:43.059578400Z"
    }
   },
   "id": "9fb86212989eb5b"
  },
  {
   "cell_type": "markdown",
   "source": [
    "## Loading the data - ECG signal"
   ],
   "metadata": {
    "collapsed": false
   },
   "id": "27db3566fbeb09d1"
  },
  {
   "cell_type": "markdown",
   "source": [
    "## HRV analysis using ECG signal"
   ],
   "metadata": {
    "collapsed": false
   },
   "id": "50ef56102366f939"
  },
  {
   "cell_type": "code",
   "outputs": [
    {
     "name": "stdout",
     "output_type": "stream",
     "text": [
      "No 'ecg' or 'ecg[mV]' column in file C:\\Users\\damia\\OneDrive\\Pulpit\\6_BREATHS\\OCH_10_CLEAN_CB_6.csv\n",
      "No 'ecg' or 'ecg[mV]' column in file C:\\Users\\damia\\OneDrive\\Pulpit\\6_BREATHS\\OCH_13_CLEAN_CB_6.csv\n",
      "No 'ecg' or 'ecg[mV]' column in file C:\\Users\\damia\\OneDrive\\Pulpit\\6_BREATHS\\OCH_14_CLEAN_CB_6.csv\n",
      "No 'ecg' or 'ecg[mV]' column in file C:\\Users\\damia\\OneDrive\\Pulpit\\6_BREATHS\\OCH_15_CLEAN_CB_6.csv\n",
      "No 'ecg' or 'ecg[mV]' column in file C:\\Users\\damia\\OneDrive\\Pulpit\\6_BREATHS\\OCH_16_CLEAN_CB_6.csv\n",
      "No 'ecg' or 'ecg[mV]' column in file C:\\Users\\damia\\OneDrive\\Pulpit\\6_BREATHS\\OCH_17_CLEAN_CB_6.csv\n",
      "No 'ecg' or 'ecg[mV]' column in file C:\\Users\\damia\\OneDrive\\Pulpit\\6_BREATHS\\OCH_18_CLEAN_CB_6.csv\n",
      "No 'ecg' or 'ecg[mV]' column in file C:\\Users\\damia\\OneDrive\\Pulpit\\6_BREATHS\\OCH_19_CLEAN_CB_6.csv\n",
      "No 'ecg' or 'ecg[mV]' column in file C:\\Users\\damia\\OneDrive\\Pulpit\\6_BREATHS\\OCH_1_CLEAN_CB_6.csv\n",
      "No 'ecg' or 'ecg[mV]' column in file C:\\Users\\damia\\OneDrive\\Pulpit\\6_BREATHS\\OCH_2_CLEAN_CB_6.csv\n",
      "No 'ecg' or 'ecg[mV]' column in file C:\\Users\\damia\\OneDrive\\Pulpit\\6_BREATHS\\OCH_3_CLEAN_CB_6.csv\n",
      "No 'ecg' or 'ecg[mV]' column in file C:\\Users\\damia\\OneDrive\\Pulpit\\6_BREATHS\\OCH_4_CLEAN_CB_6.csv\n",
      "No 'ecg' or 'ecg[mV]' column in file C:\\Users\\damia\\OneDrive\\Pulpit\\6_BREATHS\\OCH_5_CLEAN_CB_6.csv\n",
      "No 'ecg' or 'ecg[mV]' column in file C:\\Users\\damia\\OneDrive\\Pulpit\\6_BREATHS\\OCH_6_CLEAN_CB_6.csv\n",
      "No 'ecg' or 'ecg[mV]' column in file C:\\Users\\damia\\OneDrive\\Pulpit\\6_BREATHS\\OCH_7_CLEAN_CB_6.csv\n",
      "No 'ecg' or 'ecg[mV]' column in file C:\\Users\\damia\\OneDrive\\Pulpit\\6_BREATHS\\OCH_8_CLEAN_CB_6.csv\n",
      "No 'ecg' or 'ecg[mV]' column in file C:\\Users\\damia\\OneDrive\\Pulpit\\6_BREATHS\\OCH_9_CLEAN_CB_6.csv\n"
     ]
    }
   ],
   "source": [
    "for name in csv_files:\n",
    "    try:\n",
    "        df = pd.read_csv(name, sep=';')\n",
    "        if 'ecg' in df.columns:\n",
    "            df_ecg = df['ecg']\n",
    "        elif 'ecg[mV]' in df.columns:\n",
    "            df_ecg = df['ecg[mV]']\n",
    "        else:\n",
    "            print(f\"No 'ecg' or 'ecg[mV]' column in file {name}\")\n",
    "            continue\n",
    "        df_ecg = [float(i.replace(',','.')) for i in df_ecg]\n",
    "        processed_signal = nk.ppg_process(df_ecg, sampling_rate=200)\n",
    "        hrv = nk.hrv(processed_signal[0], sampling_rate=200)\n",
    "        name_without_csv = os.path.splitext(name.name)[0]\n",
    "        hrv[content].to_csv(fr'{name}_ANALYZE_ECG.csv', encoding='utf-8')\n",
    "    except Exception as e :\n",
    "        with open('error_log.txt', 'a') as f:\n",
    "            f.write(f\"Error in file {name} --> {str(e)} \\n\")"
   ],
   "metadata": {
    "collapsed": false,
    "ExecuteTime": {
     "end_time": "2024-02-20T09:37:23.460896500Z",
     "start_time": "2024-02-20T09:37:09.682009Z"
    }
   },
   "id": "c7a4eb7c79d41549",
   "execution_count": 105
  },
  {
   "cell_type": "code",
   "execution_count": 103,
   "outputs": [],
   "source": [],
   "metadata": {
    "collapsed": false,
    "ExecuteTime": {
     "end_time": "2024-02-20T09:34:40.966946600Z",
     "start_time": "2024-02-20T09:34:40.962449700Z"
    }
   },
   "id": "177dc75448e376f6"
  }
 ],
 "metadata": {
  "kernelspec": {
   "display_name": "Python 3",
   "language": "python",
   "name": "python3"
  },
  "language_info": {
   "codemirror_mode": {
    "name": "ipython",
    "version": 2
   },
   "file_extension": ".py",
   "mimetype": "text/x-python",
   "name": "python",
   "nbconvert_exporter": "python",
   "pygments_lexer": "ipython2",
   "version": "2.7.6"
  }
 },
 "nbformat": 4,
 "nbformat_minor": 5
}
